{
  "nbformat": 4,
  "nbformat_minor": 0,
  "metadata": {
    "kernelspec": {
      "display_name": "Python 3",
      "language": "python",
      "name": "python3"
    },
    "language_info": {
      "codemirror_mode": {
        "name": "ipython",
        "version": 3
      },
      "file_extension": ".py",
      "mimetype": "text/x-python",
      "name": "python",
      "nbconvert_exporter": "python",
      "pygments_lexer": "ipython3",
      "version": "3.6.5"
    },
    "colab": {
      "name": "homework_3.ipynb",
      "version": "0.3.2",
      "provenance": [],
      "include_colab_link": true
    }
  },
  "cells": [
    {
      "cell_type": "markdown",
      "metadata": {
        "id": "view-in-github",
        "colab_type": "text"
      },
      "source": [
        "<a href=\"https://colab.research.google.com/github/big91987/kaikeba_kaggle/blob/master/homework_3.ipynb\" target=\"_parent\"><img src=\"https://colab.research.google.com/assets/colab-badge.svg\" alt=\"Open In Colab\"/></a>"
      ]
    },
    {
      "cell_type": "markdown",
      "metadata": {
        "id": "rZzu8D4WATNF",
        "colab_type": "text"
      },
      "source": [
        "1.使用梯度下降求解\n",
        "$\\mathrm{L}=\\left(\\theta_{1}-3\\right)^{2}+\\left(2 \\theta_{2}-5\\right)^{2}$的最小值点"
      ]
    },
    {
      "cell_type": "code",
      "metadata": {
        "id": "3ScmJji8ATNG",
        "colab_type": "code",
        "colab": {}
      },
      "source": [
        "theta1 , theta2 = 0.0,0.0\n",
        "alpha = 0.1\n",
        "for i in range(100):\n",
        "    theta1 = theta1 - alpha*2*(theta1-3)\n",
        "    theta2 = theta2 - alpha*2*(2*theta2 -5)*2\n",
        "    print(theta1,theta2)"
      ],
      "execution_count": 0,
      "outputs": []
    },
    {
      "cell_type": "markdown",
      "metadata": {
        "id": "xhykABNpATNJ",
        "colab_type": "text"
      },
      "source": [
        "2. 使用梯度下降求解\n",
        "$\\mathrm{L}=\\left(\\theta_{1}-3\\right)^{2}\\left(2 \\theta_{2}-5\\right)^{2}$的最小值点"
      ]
    },
    {
      "cell_type": "code",
      "metadata": {
        "id": "u5dTvcBsATNK",
        "colab_type": "code",
        "colab": {}
      },
      "source": [
        "theta1 , theta2 = 10.0,4.0\n",
        "alpha = 0.01\n",
        "for i in range(100):\n",
        "    theta1 = theta1 - alpha*2*(theta1-3)*(2*theta2-5)*(2*theta2-5)\n",
        "    theta2 = theta2 - alpha*2*(2*theta2 -5)*2*(theta1-3)*(theta1-3)\n",
        "    print(theta1,theta2)"
      ],
      "execution_count": 0,
      "outputs": []
    },
    {
      "cell_type": "markdown",
      "metadata": {
        "id": "q4XGLKFZATNM",
        "colab_type": "text"
      },
      "source": [
        "3. 使用梯度下降实现最小二乘法"
      ]
    },
    {
      "cell_type": "code",
      "metadata": {
        "id": "RoThkYrnATNN",
        "colab_type": "code",
        "colab": {}
      },
      "source": [
        "import numpy as np\n",
        "import pandas as pd"
      ],
      "execution_count": 0,
      "outputs": []
    },
    {
      "cell_type": "code",
      "metadata": {
        "id": "QWcf0zilATNP",
        "colab_type": "code",
        "colab": {}
      },
      "source": [
        "def LinearRegression(X,y,alpha,n_rounds):\n",
        "    n_features = X.shape[1]\n",
        "    beta = np.array([0.0]*n_features)\n",
        "    for i in range(n_rounds):\n",
        "        \n",
        "        #计算 epsilon\n",
        "        epsilon = y\n",
        "        for j in range(n_features):\n",
        "            epsilon = epsilon - beta[j]*X[:,j]\n",
        "            \n",
        "        #更新 beta\n",
        "        for j in range(n_features):\n",
        "            gradient = -np.mean(epsilon*X[:,j])\n",
        "            beta[j] = beta[j] - alpha*gradient\n",
        "\n",
        "    return beta"
      ],
      "execution_count": 0,
      "outputs": []
    },
    {
      "cell_type": "code",
      "metadata": {
        "id": "oRetYtz_pU9K",
        "colab_type": "code",
        "outputId": "66155424-2526-4470-9128-f90fb4662885",
        "colab": {
          "base_uri": "https://localhost:8080/",
          "height": 126
        }
      },
      "source": [
        "# Load the Drive helper and mount\n",
        "from google.colab import drive\n",
        "\n",
        "# This will prompt for authorization.\n",
        "drive.mount('/content/drive')\n",
        "\n",
        "# !mkdir -p ~/.kaggle/\n",
        "# !ln -s '/content/drive/My Drive/kaggle_play/kaggle.json' ~/.kaggle/kaggle.json\n",
        "# import kaggle\n",
        "# import tensorflow as tf\n",
        "import pandas as pd\n",
        "import numpy as np\n",
        "import cv2\n",
        "import os\n",
        "from copy import deepcopy\n",
        "%matplotlib inline\n",
        "\n",
        "from sklearn.linear_model import LinearRegression\n",
        "\n",
        "data_dir = '/content/drive/My Drive/kaggle_play/kaikeba/lesson_1'"
      ],
      "execution_count": 2,
      "outputs": [
        {
          "output_type": "stream",
          "text": [
            "Go to this URL in a browser: https://accounts.google.com/o/oauth2/auth?client_id=947318989803-6bn6qk8qdgf4n4g3pfee6491hc0brc4i.apps.googleusercontent.com&redirect_uri=urn%3Aietf%3Awg%3Aoauth%3A2.0%3Aoob&scope=email%20https%3A%2F%2Fwww.googleapis.com%2Fauth%2Fdocs.test%20https%3A%2F%2Fwww.googleapis.com%2Fauth%2Fdrive%20https%3A%2F%2Fwww.googleapis.com%2Fauth%2Fdrive.photos.readonly%20https%3A%2F%2Fwww.googleapis.com%2Fauth%2Fpeopleapi.readonly&response_type=code\n",
            "\n",
            "Enter your authorization code:\n",
            "··········\n",
            "Mounted at /content/drive\n"
          ],
          "name": "stdout"
        }
      ]
    },
    {
      "cell_type": "code",
      "metadata": {
        "id": "e_ZEFdCuATNS",
        "colab_type": "code",
        "outputId": "5d167bbf-9304-49a5-bb9e-693fe01d5fa6",
        "colab": {
          "base_uri": "https://localhost:8080/",
          "height": 70
        }
      },
      "source": [
        "# 确认实现的LinearRegression函数得到的结果与sklearn中的LinearRegression的结果相同\n",
        "import pandas as pd\n",
        "from sklearn.metrics import mean_squared_error\n",
        "data_dir = '/content/drive/My Drive/kaggle_play/kaikeba/lesson_1'\n",
        "data = pd.read_csv('{}/height_train.csv'.format(data_dir))\n",
        "# data = data.dropna(how='any')\n",
        "# data['constant'] = 1\n",
        "# model = LinearRegression(data.loc[:,['father_height','mother_height','boy_dummy','constant']].values,data.child_height.values,0.1,100000)\n",
        "model = LinearRegression()\n",
        "# data.to_csv('/content/drive/My Drive/kaggle_play/kaikeba/lesson_3/123123.csv')\n",
        "model.fit(X = data[['father_height','mother_height','boy_dummy']],y = data.child_height)\n",
        "print(model.coef_)\n",
        "print(model.intercept_)\n",
        "\n",
        "y_pred = model.predict(X = data[['father_height','mother_height','boy_dummy']])\n",
        "y_true = data.child_height\n",
        "\n",
        "print('mse is {}'.format(mean_squared_error(y_true, y_pred)))"
      ],
      "execution_count": 19,
      "outputs": [
        {
          "output_type": "stream",
          "text": [
            "[0.23959427 0.25013358 0.10030806]\n",
            "0.8274299645517071\n",
            "mse is 0.00012034285005390992\n"
          ],
          "name": "stdout"
        }
      ]
    },
    {
      "cell_type": "code",
      "metadata": {
        "id": "0kN96YGQIEn3",
        "colab_type": "code",
        "colab": {}
      },
      "source": [
        "import numpy as np"
      ],
      "execution_count": 0,
      "outputs": []
    },
    {
      "cell_type": "markdown",
      "metadata": {
        "id": "cAZN2zjxATNU",
        "colab_type": "text"
      },
      "source": [
        "作业： 实现线性回归的代码，发布到各人Github\n",
        "\n",
        "选作：\n",
        "1. 收敛条件的判断\n",
        "2. 学习率的选择\n",
        "3. 类的形式"
      ]
    },
    {
      "cell_type": "code",
      "metadata": {
        "id": "jlSHRANPATNV",
        "colab_type": "code",
        "outputId": "10a8f1ef-4f99-4108-c993-b02411113a23",
        "colab": {
          "base_uri": "https://localhost:8080/",
          "height": 106
        }
      },
      "source": [
        "import numpy as np\n",
        "\n",
        "class LinearRegression_zjz:\n",
        "  def __init__(self, debug = False):\n",
        "    self.n_rows = None\n",
        "    self.debug = debug\n",
        "    self.fit_flag = False\n",
        "  \n",
        "  def fit(self, X, y, alpha = 1e-3, d = 1e-3, max_loop = 100000):\n",
        "    # print('111111111111111111111111111111111111111111111111111111111111')\n",
        "    self.n_rows = X.shape[0]\n",
        "    self.n_features = X.shape[1]\n",
        "\n",
        "    # 将y转换为二阶矩阵，否则会被broadcasting\n",
        "    y = y.values.reshape((-1,1))\n",
        "\n",
        "    if self.debug:\n",
        "      print('n_rows ===> {}'.format(self.n_rows))\n",
        "      print('n_feature ===> {}'.format(self.n_features))\n",
        "\n",
        "    # 添加一列特征， 值为1\n",
        "    X_ = np.pad(X.values,((0,0),(0,1)),'constant', constant_values=(0,1)) # n * m \n",
        "    X_.astype(float)\n",
        "    beta = np.zeros(shape=(self.n_features + 1, 1)) # m , 1\n",
        "\n",
        "    for i in range(max_loop):\n",
        "      epsilon = y - np.matmul(X_, beta) # n, 1\n",
        "      g = - 2 * np.matmul(X_.T, epsilon) / self.n_rows\n",
        "      \n",
        "      if np.linalg.norm(g) * alpha < d:\n",
        "        break\n",
        "        \n",
        "      beta -= alpha * g\n",
        "      if self.debug:\n",
        "        print('beta === > {}'.format(beta))\n",
        "        print('epsilon === > {}'.format(epsilon))\n",
        "\n",
        "    self.beta = beta\n",
        "    self.fit_flag = True\n",
        "    \n",
        "    print('beta is {}'.format(beta))\n",
        "       \n",
        "  @property\n",
        "  def intercept_(self):\n",
        "    assert self.fit_flag, \"need fit model first\"\n",
        "    return self.beta[-1]\n",
        "\n",
        "  @property\n",
        "  def coef_(self):\n",
        "    assert self.fit_flag, \"need fit model first\"\n",
        "    return self.beta[:-1]\n",
        "  \n",
        "  def predict(self, X):\n",
        "    assert self.fit_flag, \"need fit model first\"\n",
        "    X_ = np.pad(X.copy(),((0,0),(0,1)),'constant', constant_values=(0,1))\n",
        "    return np.matmul(X_, self.beta)\n",
        "\n",
        "import pandas as pd\n",
        "data_dir = '/content/drive/My Drive/kaggle_play/kaikeba/lesson_1'\n",
        "data = pd.read_csv('{}/height_train.csv'.format(data_dir))\n",
        "model2 = LinearRegression_zjz(debug=False)\n",
        "model2.fit(X = data[['father_height','mother_height','boy_dummy']],y = data.child_height, alpha = 1e-5, max_loop=1000000, d = 1e-8)\n",
        "# print(model.coef_)\n",
        "# print(model.intercept_)\n",
        "\n",
        "y_pred = model2.predict(X = data[['father_height','mother_height','boy_dummy']])\n",
        "y_true = data.child_height\n",
        "\n",
        "print('mse is {}'.format(mean_squared_error(y_true, y_pred)))\n"
      ],
      "execution_count": 38,
      "outputs": [
        {
          "output_type": "stream",
          "text": [
            "beta is [[0.42839262]\n",
            " [0.40312608]\n",
            " [0.10203117]\n",
            " [0.25021702]]\n",
            "mse is 0.0002626988598804039\n"
          ],
          "name": "stdout"
        }
      ]
    },
    {
      "cell_type": "code",
      "metadata": {
        "id": "qnLC1WR8d4MX",
        "colab_type": "code",
        "outputId": "ea547404-7805-415d-d392-816e59f4286a",
        "colab": {
          "base_uri": "https://localhost:8080/",
          "height": 88
        }
      },
      "source": [
        "import numpy as np\n",
        "array = np.array([[1, 1],[2,2]])\n",
        "ndarray=np.pad(array,((0,0),(0,1)),'constant', constant_values=(0,1)) \n",
        "\n",
        "print(\"array\",array)\n",
        "print(\"ndarray=\",ndarray)"
      ],
      "execution_count": 0,
      "outputs": [
        {
          "output_type": "stream",
          "text": [
            "array [[1 1]\n",
            " [2 2]]\n",
            "ndarray= [[1 1 1]\n",
            " [2 2 1]]\n"
          ],
          "name": "stdout"
        }
      ]
    },
    {
      "cell_type": "code",
      "metadata": {
        "id": "UX9-jv1dATNX",
        "colab_type": "code",
        "colab": {
          "base_uri": "https://localhost:8080/",
          "height": 70
        },
        "outputId": "943d1146-3e91-471c-cfe0-59ac349521fd"
      },
      "source": [
        "import numpy as np\n",
        "\n",
        "class LinearRegression_3:\n",
        "  def __init__(self, debug = False):\n",
        "    self.n_rows = None\n",
        "    self.debug = debug\n",
        "    self.fit_flag = False\n",
        "  \n",
        "  def fit(self, X,y,alpha,n_rounds):\n",
        "    n_features = X.shape[1]\n",
        "    beta = np.array([0.0]*n_features)\n",
        "    for i in range(n_rounds):\n",
        "\n",
        "        #计算 epsilon\n",
        "        epsilon = y\n",
        "        for j in range(n_features):\n",
        "            epsilon = epsilon - beta[j]*X[:,j]\n",
        "\n",
        "        #更新 beta\n",
        "        for j in range(n_features):\n",
        "            gradient = -np.mean(epsilon*X[:,j])\n",
        "            beta[j] = beta[j] - alpha*gradient\n",
        "    self.beta = beta\n",
        "    self.fit_flag = True\n",
        "\n",
        "#       return beta\n",
        "       \n",
        "  @property\n",
        "  def intercept_(self):\n",
        "    assert self.fit_flag, \"need fit model first\"\n",
        "    return self.beta[-1]\n",
        "\n",
        "  @property\n",
        "  def coef_(self):\n",
        "    assert self.fit_flag, \"need fit model first\"\n",
        "    return self.beta[:-1]\n",
        "  \n",
        "  def predict(self, X):\n",
        "    assert self.fit_flag, \"need fit model first\"\n",
        "#     X_ = np.pad(X.copy(),((0,0),(0,1)),'constant', constant_values=(0,1))\n",
        "    # X_ = X.copy()\n",
        "    return np.matmul(X, self.beta)\n",
        "\n",
        "import pandas as pd\n",
        "data_dir = '/content/drive/My Drive/kaggle_play/kaikeba/lesson_1'\n",
        "data = pd.read_csv('{}/height_train.csv'.format(data_dir))\n",
        "data['const'] = 1.0\n",
        "model2 = LinearRegression_3(debug=False)\n",
        "model2.fit(X = data[['father_height','mother_height','boy_dummy', 'const']].values,y = data.child_height.values, alpha = 1e-2, n_rounds= 24000)\n",
        "print(model2.coef_)\n",
        "print(model2.intercept_)\n",
        "\n",
        "\n",
        "\n",
        "y_pred = model2.predict(X = data[['father_height','mother_height','boy_dummy', 'const']].values)\n",
        "y_true = data.child_height\n",
        "\n",
        "print('mse is {}'.format(mean_squared_error(y_true, y_pred)))"
      ],
      "execution_count": 68,
      "outputs": [
        {
          "output_type": "stream",
          "text": [
            "[0.40769183 0.39781116 0.10022758]\n",
            "0.2957043850857928\n",
            "mse is 0.00023973505849415568\n"
          ],
          "name": "stdout"
        }
      ]
    },
    {
      "cell_type": "code",
      "metadata": {
        "id": "5uRer2jhSMLb",
        "colab_type": "code",
        "colab": {
          "base_uri": "https://localhost:8080/",
          "height": 70
        },
        "outputId": "f95ba7bc-23d3-4e1d-e8bc-213c47b58898"
      },
      "source": [
        "import numpy as np\n",
        "\n",
        "class LinearRegression_3:\n",
        "  def __init__(self, debug = False):\n",
        "    self.n_rows = None\n",
        "    self.n_features = None\n",
        "    self.debug = debug\n",
        "    self.fit_flag = False\n",
        "  \n",
        "  def fit(self, X,y,alpha,n_rounds, phi = None, decay = None):\n",
        "    self.n_features = X.shape[1]\n",
        "    self.n_rows = X.shape[0]\n",
        "    X = np.pad(X.copy(),((0,0),(0,1)),'constant', constant_values=(0,1))\n",
        "    beta = np.array([0.0]*X.shape[1])\n",
        "    for i in range(n_rounds):\n",
        "        epsilon = y - np.matmul(X, beta)\n",
        "        gradient = - np.matmul(X.T, epsilon) / X.shape[0]\n",
        "        if decay:\n",
        "          for d in decay:\n",
        "            if i == d:\n",
        "              alpha *= 0.1\n",
        "        beta = beta - alpha * gradient\n",
        "        if phi:\n",
        "          if np.linalg.norm(epsilon) < 1e-4:\n",
        "            break\n",
        "    self.beta = beta\n",
        "    self.fit_flag = True\n",
        "       \n",
        "  @property\n",
        "  def intercept_(self):\n",
        "    assert self.fit_flag, \"need fit model first\"\n",
        "    return self.beta[-1]\n",
        "\n",
        "  @property\n",
        "  def coef_(self):\n",
        "    assert self.fit_flag, \"need fit model first\"\n",
        "    return self.beta[:-1]\n",
        "  \n",
        "  def predict(self, X):\n",
        "    assert self.fit_flag, \"need fit model first\"\n",
        "    X = np.pad(X.copy(),((0,0),(0,1)),'constant', constant_values=(0,1))\n",
        "    return np.matmul(X, self.beta)\n",
        "\n",
        "import pandas as pd\n",
        "data_dir = '/content/drive/My Drive/kaggle_play/kaikeba/lesson_1'\n",
        "data = pd.read_csv('{}/height_train.csv'.format(data_dir))\n",
        "# data['const'] = 1\n",
        "model2 = LinearRegression_3(debug=False)\n",
        "model2.fit(X = data[['father_height','mother_height','boy_dummy']].values,y = data.child_height.values, alpha = 1e-3, n_rounds= 10000)\n",
        "print(model2.coef_)\n",
        "print(model2.intercept_)\n",
        "\n",
        "\n",
        "\n",
        "y_pred = model2.predict(X = data[['father_height','mother_height','boy_dummy']].values)\n",
        "y_true = data.child_height\n",
        "\n",
        "print('mse is {}'.format(mean_squared_error(y_true, y_pred)))\n",
        "\n",
        "\n",
        "# [0.23959427 0.25013358 0.10030806]\n",
        "# 0.8274299645517071\n",
        "# mse is 0.00012034285005390992"
      ],
      "execution_count": 59,
      "outputs": [
        {
          "output_type": "stream",
          "text": [
            "[0.42843961 0.40304645 0.1028789 ]\n",
            "0.2498180485405663\n",
            "mse is 0.0002638174770896327\n"
          ],
          "name": "stdout"
        }
      ]
    }
  ]
}