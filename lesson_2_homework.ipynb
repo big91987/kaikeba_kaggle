{
  "nbformat": 4,
  "nbformat_minor": 0,
  "metadata": {
    "colab": {
      "name": "lesson_2_homework",
      "version": "0.3.2",
      "provenance": [],
      "include_colab_link": true
    },
    "kernelspec": {
      "name": "python3",
      "display_name": "Python 3"
    },
    "accelerator": "GPU"
  },
  "cells": [
    {
      "cell_type": "markdown",
      "metadata": {
        "id": "view-in-github",
        "colab_type": "text"
      },
      "source": [
        "<a href=\"https://colab.research.google.com/github/big91987/kaikeba_kaggle/blob/master/lesson_2_homework.ipynb\" target=\"_parent\"><img src=\"https://colab.research.google.com/assets/colab-badge.svg\" alt=\"Open In Colab\"/></a>"
      ]
    },
    {
      "cell_type": "code",
      "metadata": {
        "id": "gfojJP3ZE-VX",
        "colab_type": "code",
        "outputId": "9fae6399-dac8-478a-ac0f-900529aa5357",
        "colab": {
          "base_uri": "https://localhost:8080/",
          "height": 35
        }
      },
      "source": [
        "from google.colab import drive\n",
        "\n",
        "# This will prompt for authorization.\n",
        "drive.mount('/content/drive')\n",
        "\n",
        "# x_path = '/content/drive/My Drive/forecasting/zjz/data/x_extend_result.csv'"
      ],
      "execution_count": 1,
      "outputs": [
        {
          "output_type": "stream",
          "text": [
            "Drive already mounted at /content/drive; to attempt to forcibly remount, call drive.mount(\"/content/drive\", force_remount=True).\n"
          ],
          "name": "stdout"
        }
      ]
    },
    {
      "cell_type": "code",
      "metadata": {
        "id": "Q8duBEkBC93R",
        "colab_type": "code",
        "colab": {}
      },
      "source": [
        "# import library\n",
        "import pandas as pd\n",
        "pd.set_option('display.max_column',100)\n",
        "import matplotlib.pyplot as plt\n",
        "from pylab import rcParams\n",
        "rcParams['figure.figsize'] = 14, 10\n",
        "# plt.figure(figsize=(14, 10))\n",
        "import numpy as np\n",
        "import seaborn as sns\n",
        "\n",
        "%matplotlib inline\n",
        "# 可以省略 plt.show()\n",
        "\n",
        "import warnings\n",
        "warnings.filterwarnings('ignore')"
      ],
      "execution_count": 0,
      "outputs": []
    },
    {
      "cell_type": "markdown",
      "metadata": {
        "id": "qKi1q4QSOLQc",
        "colab_type": "text"
      },
      "source": [
        "# Homework 1 练习课堂代码"
      ]
    },
    {
      "cell_type": "code",
      "metadata": {
        "id": "wjmD9GzEDMkO",
        "colab_type": "code",
        "colab": {}
      },
      "source": [
        "# simple ead ways\n",
        "data = pd.read_csv('/content/drive/My Drive/kaggle_play/kaikeba/lesson_2/creditcard.csv')\n",
        "print(' ======> {}'.format(data.head()))\n",
        "print(' ======> {}'.format(data.shape))\n",
        "print(' ======> {}'.format(data.info()))\n",
        "print(' ======> {}'.format(data.columns))\n",
        "print(' ======> {}'.format(data.describe()))\n",
        "print(' ======> {}'.format(data['Class'].value_counts()))\n",
        "# print(' ======> {}'.format(data.isnull().sum()))\n",
        "# print(' ======> {}'.format(data.isnull().sum().max())) # 包含缺失最多的一列有多少\n",
        "# print(' ======> {}'.format(data.isnull().any()))\n",
        "# print(' ======> {}'.format(data.isnull().values.any())) # 数据中是否有缺失值"
      ],
      "execution_count": 0,
      "outputs": []
    },
    {
      "cell_type": "code",
      "metadata": {
        "id": "NRMRbWsZLlF1",
        "colab_type": "code",
        "outputId": "b3f93187-4708-4a86-9b8d-99e87b6092e9",
        "colab": {
          "base_uri": "https://localhost:8080/",
          "height": 1000
        }
      },
      "source": [
        "# Amount-histogram\n",
        "Fraud_transacation = data[data[\"Class\"]==1]\n",
        "Normal_transacation= data[data[\"Class\"]==0]\n",
        "plt.figure(figsize=(10,6))\n",
        "plt.subplot(121)\n",
        "\n",
        "# hist ====> 直方图，统计每个值出现次数\n",
        "\n",
        "Fraud_transacation.Amount.plot.hist(title=\"Fraud Transacation\")\n",
        "plt.yscale('log')\n",
        "plt.subplot(122)\n",
        "Normal_transacation.Amount.plot.hist(title=\"Normal Transaction\")\n",
        "plt.yscale('log')\n",
        "\n",
        "# Amount-Time\n",
        "f, (ax1, ax2) = plt.subplots(2, 1, sharex=True)\n",
        "f.suptitle('Time of transaction vs Amount by class')\n",
        "# 在每个时间上的交易量\n",
        "ax1.plot(Fraud_transacation.Time, Fraud_transacation.Amount)\n",
        "ax1.set_title('Fraud')\n",
        "ax2.scatter(Normal_transacation.Time, Normal_transacation.Amount)\n",
        "ax2.set_title('Normal')\n",
        "plt.xlabel('Time (in Seconds)')\n",
        "plt.ylabel('Amount')\n",
        "plt.show()\n",
        "\n",
        "# correlation\n",
        "correlation_matrix = data.corr()\n",
        "fig = plt.figure(figsize=(12,9))\n",
        "sns.heatmap(correlation_matrix,vmax=0.8,square = True)\n",
        "plt.show()\n",
        "\n",
        "## After sampling ?"
      ],
      "execution_count": 0,
      "outputs": [
        {
          "output_type": "display_data",
          "data": {
            "image/png": "[encoded data removed]",
            "text/plain": [
              "<Figure size 720x432 with 2 Axes>"
            ]
          },
          "metadata": {
            "tags": []
          }
        },
        {
          "output_type": "display_data",
          "data": {
            "image/png": "[encoded data removed]",
            "text/plain": [
              "<Figure size 432x288 with 2 Axes>"
            ]
          },
          "metadata": {
            "tags": []
          }
        },
        {
          "output_type": "display_data",
          "data": {
            "image/png": "[encoded data removed]",
            "text/plain": [
              "<Figure size 864x648 with 2 Axes>"
            ]
          },
          "metadata": {
            "tags": []
          }
        }
      ]
    },
    {
      "cell_type": "code",
      "metadata": {
        "id": "S8ymagPjPNSp",
        "colab_type": "code",
        "colab": {
          "base_uri": "https://localhost:8080/",
          "height": 530
        },
        "outputId": "c52e0ee7-6f72-4022-bc84-1d371d914707"
      },
      "source": [
        "data['hour'] = data['Time'].apply(lambda x: np.ceil(float(x)/3600) % 24)\n",
        "data.pivot_table(values='Amount',index='hour',columns='Class',aggfunc='count')\n",
        "# https://pandas.pydata.org/pandas-docs/stable/reference/api/pandas.DataFrame.pivot_table.html\n",
        "\n",
        "bins = np.arange(data['hour'].min(),data['hour'].max()+2)\n",
        "# plt.figure(figsize=(15,4))\n",
        "sns.distplot(data[data['Class']==0.0]['hour'],\n",
        "             norm_hist=True,\n",
        "             bins=bins,\n",
        "             kde=False,\n",
        "             color='b',\n",
        "             hist_kws={'alpha':.5},\n",
        "             label='Legit')\n",
        "sns.distplot(data[data['Class']==1.0]['hour'],\n",
        "             norm_hist=True,\n",
        "             bins=bins,\n",
        "             kde=False,\n",
        "             color='r',\n",
        "             label='Fraud',\n",
        "             hist_kws={'alpha':.5})\n",
        "plt.xticks(range(0,24))\n",
        "plt.legend()"
      ],
      "execution_count": 33,
      "outputs": [
        {
          "output_type": "execute_result",
          "data": {
            "text/plain": [
              "<matplotlib.legend.Legend at 0x7f4cd1ca2be0>"
            ]
          },
          "metadata": {
            "tags": []
          },
          "execution_count": 33
        },
        {
          "output_type": "display_data",
          "data": {
            "image/png": "[encoded data removed]",
            "text/plain": [
              "<Figure size 800x550 with 1 Axes>"
            ]
          },
          "metadata": {
            "tags": []
          }
        }
      ]
    },
    {
      "cell_type": "code",
      "metadata": {
        "id": "cqC9LcE_Xajt",
        "colab_type": "code",
        "colab": {}
      },
      "source": [
        "# https://github.com/pandas-profiling/pandas-profiling\n",
        "# !pip install pandas_profiling\n",
        "import pandas_profiling\n",
        "\n",
        "pandas_profiling.ProfileReport(data)\n",
        "\n",
        "# profile = pandas_profiling.ProfileReport(data)\n",
        "# profile.to_file(output_file=\"/content/drive/My Drive/kaggle_play/kaikeba/lesson_2/credit_fraud_detector.html\")"
      ],
      "execution_count": 0,
      "outputs": []
    },
    {
      "cell_type": "markdown",
      "metadata": {
        "id": "IHp5B92OYoxg",
        "colab_type": "text"
      },
      "source": [
        "## 不平衡数据"
      ]
    },
    {
      "cell_type": "code",
      "metadata": {
        "id": "CSrZ4_GWYmYP",
        "colab_type": "code",
        "outputId": "78826065-00dd-453a-b0be-d7a9bcacc378",
        "colab": {
          "base_uri": "https://localhost:8080/",
          "height": 540
        }
      },
      "source": [
        "count_classes = pd.value_counts(data['Class'], sort = True).sort_index()\n",
        "count_classes.plot(kind = 'bar')\n",
        "plt.title(\"Fraud class histogram\")\n",
        "plt.xlabel(\"Class\")\n",
        "plt.ylabel(\"Frequency\")\n",
        "\n",
        "# data['Class'].hist()"
      ],
      "execution_count": 0,
      "outputs": [
        {
          "output_type": "execute_result",
          "data": {
            "text/plain": [
              "Text(0, 0.5, 'Frequency')"
            ]
          },
          "metadata": {
            "tags": []
          },
          "execution_count": 54
        },
        {
          "output_type": "display_data",
          "data": {
            "image/png": "[encoded data removed]",
            "text/plain": [
              "<Figure size 800x550 with 1 Axes>"
            ]
          },
          "metadata": {
            "tags": []
          }
        }
      ]
    },
    {
      "cell_type": "code",
      "metadata": {
        "id": "t46vNsBMaYDU",
        "colab_type": "code",
        "colab": {}
      },
      "source": [
        ""
      ],
      "execution_count": 0,
      "outputs": []
    },
    {
      "cell_type": "markdown",
      "metadata": {
        "id": "qkOGrsEma7_H",
        "colab_type": "text"
      },
      "source": [
        "## 划分测试集"
      ]
    },
    {
      "cell_type": "code",
      "metadata": {
        "id": "VfzWTPd4a8ME",
        "colab_type": "code",
        "outputId": "883196f5-f652-41e5-cd13-23f9bc1fdc73",
        "colab": {
          "base_uri": "https://localhost:8080/",
          "height": 141
        }
      },
      "source": [
        "total_num = data.shape[0]\n",
        "split_rate = 0.7\n",
        "train_num = int(split_rate * total_num)\n",
        "\n",
        "train_df = data.iloc[:train_num,:]\n",
        "test_df = data.loc[train_num:,:]\n",
        "\n",
        "print(train_df.columns)\n",
        "\n",
        "print(train_df.shape)\n",
        "print(test_df.shape)\n",
        "\n"
      ],
      "execution_count": 4,
      "outputs": [
        {
          "output_type": "stream",
          "text": [
            "Index(['Time', 'V1', 'V2', 'V3', 'V4', 'V5', 'V6', 'V7', 'V8', 'V9', 'V10',\n",
            "       'V11', 'V12', 'V13', 'V14', 'V15', 'V16', 'V17', 'V18', 'V19', 'V20',\n",
            "       'V21', 'V22', 'V23', 'V24', 'V25', 'V26', 'V27', 'V28', 'Amount',\n",
            "       'Class'],\n",
            "      dtype='object')\n",
            "(199364, 31)\n",
            "(85443, 31)\n"
          ],
          "name": "stdout"
        }
      ]
    },
    {
      "cell_type": "markdown",
      "metadata": {
        "id": "12R8rimuaarf",
        "colab_type": "text"
      },
      "source": [
        "## 预测"
      ]
    },
    {
      "cell_type": "code",
      "metadata": {
        "id": "i70B26L_acGW",
        "colab_type": "code",
        "colab": {}
      },
      "source": [
        "from sklearn.linear_model import LogisticRegression\n",
        "\n",
        "X_col = ['Time', 'V1', 'V2', 'V3', 'V4', 'V5', 'V6', 'V7', 'V8', 'V9', 'V10',\n",
        "       'V11', 'V12', 'V13', 'V14', 'V15', 'V16', 'V17', 'V18', 'V19', 'V20',\n",
        "       'V21', 'V22', 'V23', 'V24', 'V25', 'V26', 'V27', 'V28', 'Amount']\n",
        "\n",
        "model = LogisticRegression(class_weight='balanced')\n",
        "\n",
        "model.fit(X=train_df[X_col], y=train_df['Class'])\n",
        "\n",
        "y_pred = model.predict(X=test_df[X_col])\n",
        "\n",
        "y_true = test_df['Class']\n"
      ],
      "execution_count": 0,
      "outputs": []
    },
    {
      "cell_type": "markdown",
      "metadata": {
        "id": "dxlYVBunaAr7",
        "colab_type": "text"
      },
      "source": [
        "# Homework 2 补充完整metric"
      ]
    },
    {
      "cell_type": "markdown",
      "metadata": {
        "id": "TkRRXL-2Hhpl",
        "colab_type": "text"
      },
      "source": [
        "## Confusion Matrix (混淆矩阵)"
      ]
    },
    {
      "cell_type": "code",
      "metadata": {
        "id": "pcrpOLEsC3Ik",
        "colab_type": "code",
        "colab": {
          "base_uri": "https://localhost:8080/",
          "height": 52
        },
        "outputId": "2cb6ddf8-877d-4886-8cd2-f099f60ca0e3"
      },
      "source": [
        "## homework ##\n",
        "# 前面的是实际结果，后面的是预测结果 \n",
        "def find_TP(y_true, y_pred):\n",
        "    # 实际为正，预测为正\n",
        "    # counts the number of true positives (y_true = 1, y_pred = 1)\n",
        "    return sum((y_true == 1) & (y_pred == 1))\n",
        "def find_FN(y_true, y_pred):\n",
        "    # 实际为正，预测为负\n",
        "    # counts the number of false negatives (y_true = 1, y_pred = 0)\n",
        "    return sum((y_true == 1) & (y_pred == 0))\n",
        "def find_FP(y_true, y_pred):\n",
        "    # 实际为负，预测为正\n",
        "    # counts the number of false positives (y_true = 0, y_pred = 1)\n",
        "    return sum((y_true == 0) & (y_pred == 1))\n",
        "def find_TN(y_true, y_pred):\n",
        "    # counts the number of true negatives (y_true = 0, y_pred = 0)\n",
        "    return sum((y_true == 0) & (y_pred == 0))\n",
        "\n",
        "import numpy as np\n",
        "def find_conf_matrix_values(y_true,y_pred):\n",
        "    # calculate TP, FN, FP, TN\n",
        "    TP = find_TP(y_true,y_pred)\n",
        "    FN = find_FN(y_true,y_pred)\n",
        "    FP = find_FP(y_true,y_pred)\n",
        "    TN = find_TN(y_true,y_pred)\n",
        "    return TP,FN,FP,TN\n",
        "def my_confusion_matrix(y_true, y_pred):\n",
        "    TP,FN,FP,TN = find_conf_matrix_values(y_true,y_pred)\n",
        "    return np.array([[TN,FP],[FN,TP]])\n",
        "  \n",
        "my_confusion_matrix(y_true, y_pred)"
      ],
      "execution_count": 7,
      "outputs": [
        {
          "output_type": "execute_result",
          "data": {
            "text/plain": [
              "array([[83705,  1630],\n",
              "       [   13,    95]])"
            ]
          },
          "metadata": {
            "tags": []
          },
          "execution_count": 7
        }
      ]
    },
    {
      "cell_type": "code",
      "metadata": {
        "id": "_EGPIm8saFAs",
        "colab_type": "code",
        "outputId": "a6fd084e-797d-4d8d-e3e1-ac20aeb635bf",
        "colab": {
          "base_uri": "https://localhost:8080/",
          "height": 52
        }
      },
      "source": [
        "from sklearn.metrics import confusion_matrix\n",
        "confusion_matrix(y_true, y_pred)"
      ],
      "execution_count": 10,
      "outputs": [
        {
          "output_type": "execute_result",
          "data": {
            "text/plain": [
              "array([[83705,  1630],\n",
              "       [   13,    95]])"
            ]
          },
          "metadata": {
            "tags": []
          },
          "execution_count": 10
        }
      ]
    },
    {
      "cell_type": "markdown",
      "metadata": {
        "id": "KJgHs3whHn5h",
        "colab_type": "text"
      },
      "source": [
        "## Accuracy （正确率）"
      ]
    },
    {
      "cell_type": "code",
      "metadata": {
        "id": "Lkoau-pjGM5l",
        "colab_type": "code",
        "colab": {
          "base_uri": "https://localhost:8080/",
          "height": 35
        },
        "outputId": "1decf2de-157f-4b31-ed0e-2ea4d4ac1b84"
      },
      "source": [
        "def my_accuracy_score(y_true, y_pred):\n",
        "    # calculates the fraction of samples predicted correctly\n",
        "    TP,FN,FP,TN = find_conf_matrix_values(y_true,y_pred)\n",
        "    return (TP + TN)/ (TP + FN + FP + TN)\n",
        "my_accuracy_score(y_true, y_pred)"
      ],
      "execution_count": 11,
      "outputs": [
        {
          "output_type": "execute_result",
          "data": {
            "text/plain": [
              "0.9807708062685064"
            ]
          },
          "metadata": {
            "tags": []
          },
          "execution_count": 11
        }
      ]
    },
    {
      "cell_type": "code",
      "metadata": {
        "id": "WlyWuu_4dmcf",
        "colab_type": "code",
        "outputId": "69d20164-00f6-4f7b-ae63-4b3d200ce0cd",
        "colab": {
          "base_uri": "https://localhost:8080/",
          "height": 35
        }
      },
      "source": [
        "from sklearn.metrics import accuracy_score\n",
        "accuracy_score(y_true, y_pred)"
      ],
      "execution_count": 12,
      "outputs": [
        {
          "output_type": "execute_result",
          "data": {
            "text/plain": [
              "0.9807708062685064"
            ]
          },
          "metadata": {
            "tags": []
          },
          "execution_count": 12
        }
      ]
    },
    {
      "cell_type": "markdown",
      "metadata": {
        "id": "0GMzCAQ4H2iB",
        "colab_type": "text"
      },
      "source": [
        "## Precision （精度、查准率）"
      ]
    },
    {
      "cell_type": "code",
      "metadata": {
        "id": "arRydXu1HNKN",
        "colab_type": "code",
        "colab": {
          "base_uri": "https://localhost:8080/",
          "height": 35
        },
        "outputId": "3ab4707a-e730-4f7c-8849-701b376814c8"
      },
      "source": [
        "# homework\n",
        "def my_precision_score(y_true, y_pred):\n",
        "    # calculates the fraction of predicted positives samples that are actually positive\n",
        "    TP,FN,FP,TN = find_conf_matrix_values(y_true,y_pred)\n",
        "    return TP / (TP + FP)\n",
        "  \n",
        "my_precision_score(y_true, y_pred)"
      ],
      "execution_count": 13,
      "outputs": [
        {
          "output_type": "execute_result",
          "data": {
            "text/plain": [
              "0.05507246376811594"
            ]
          },
          "metadata": {
            "tags": []
          },
          "execution_count": 13
        }
      ]
    },
    {
      "cell_type": "code",
      "metadata": {
        "id": "bgj8UKC_eU5_",
        "colab_type": "code",
        "outputId": "5c02d20a-4657-419c-fd3a-6bf74dcf23f9",
        "colab": {
          "base_uri": "https://localhost:8080/",
          "height": 35
        }
      },
      "source": [
        "# 挑出来的里面正样本的比例 查准率\n",
        "from sklearn.metrics import precision_score\n",
        "precision_score(y_true, y_pred)"
      ],
      "execution_count": 14,
      "outputs": [
        {
          "output_type": "execute_result",
          "data": {
            "text/plain": [
              "0.05507246376811594"
            ]
          },
          "metadata": {
            "tags": []
          },
          "execution_count": 14
        }
      ]
    },
    {
      "cell_type": "markdown",
      "metadata": {
        "id": "u5Kt21njIbDN",
        "colab_type": "text"
      },
      "source": [
        "## Recall （召回、查全率）"
      ]
    },
    {
      "cell_type": "code",
      "metadata": {
        "id": "adaBqBI_IuCY",
        "colab_type": "code",
        "colab": {
          "base_uri": "https://localhost:8080/",
          "height": 35
        },
        "outputId": "194c61ea-40ff-4e01-f9d7-92dd9c321068"
      },
      "source": [
        "def my_recall_score(y_true, y_pred):\n",
        "    # calculates the fraction of positive samples predicted correctly\n",
        "    TP,FN,FP,TN = find_conf_matrix_values(y_true,y_pred)\n",
        "    return TP / (TP + FN)\n",
        "  \n",
        "my_recall_score(y_true, y_pred)"
      ],
      "execution_count": 15,
      "outputs": [
        {
          "output_type": "execute_result",
          "data": {
            "text/plain": [
              "0.8796296296296297"
            ]
          },
          "metadata": {
            "tags": []
          },
          "execution_count": 15
        }
      ]
    },
    {
      "cell_type": "code",
      "metadata": {
        "id": "EkF5dz8LeoWu",
        "colab_type": "code",
        "outputId": "e061ccfa-722d-442e-e977-1441bb186cd2",
        "colab": {
          "base_uri": "https://localhost:8080/",
          "height": 35
        }
      },
      "source": [
        "# 正样本里面被挑出为正的概率 查全率\n",
        "from sklearn.metrics import recall_score\n",
        "recall_score(y_true, y_pred)"
      ],
      "execution_count": 17,
      "outputs": [
        {
          "output_type": "execute_result",
          "data": {
            "text/plain": [
              "0.8796296296296297"
            ]
          },
          "metadata": {
            "tags": []
          },
          "execution_count": 17
        }
      ]
    },
    {
      "cell_type": "markdown",
      "metadata": {
        "id": "aqME7tvVJEii",
        "colab_type": "text"
      },
      "source": [
        "## F1 "
      ]
    },
    {
      "cell_type": "code",
      "metadata": {
        "id": "fzDxLup1JI2I",
        "colab_type": "code",
        "colab": {
          "base_uri": "https://localhost:8080/",
          "height": 35
        },
        "outputId": "980eef7e-b2d0-4053-b56f-c6c9d139c07d"
      },
      "source": [
        "def my_f1_score(y_true, y_pred):\n",
        "    # calculates the F1 score\n",
        "    recall = my_recall_score(y_true,y_pred)\n",
        "    precision = my_precision_score(y_true,y_pred)\n",
        "    return 2 * recall * precision / (recall + precision)\n",
        "\n",
        "my_f1_score(y_true, y_pred)"
      ],
      "execution_count": 19,
      "outputs": [
        {
          "output_type": "execute_result",
          "data": {
            "text/plain": [
              "0.10365521003818876"
            ]
          },
          "metadata": {
            "tags": []
          },
          "execution_count": 19
        }
      ]
    },
    {
      "cell_type": "code",
      "metadata": {
        "id": "uxaqNPQzeuXf",
        "colab_type": "code",
        "outputId": "92856aff-71ee-4250-e17f-839c8aee6510",
        "colab": {
          "base_uri": "https://localhost:8080/",
          "height": 35
        }
      },
      "source": [
        "# R 与 P的调和平均\n",
        "from sklearn.metrics import f1_score\n",
        "f1_score(y_true, y_pred)"
      ],
      "execution_count": 20,
      "outputs": [
        {
          "output_type": "execute_result",
          "data": {
            "text/plain": [
              "0.10365521003818876"
            ]
          },
          "metadata": {
            "tags": []
          },
          "execution_count": 20
        }
      ]
    },
    {
      "cell_type": "code",
      "metadata": {
        "id": "11l3pP44fNQU",
        "colab_type": "code",
        "outputId": "4fbf0140-2924-46c9-d4e3-6c36cce6795a",
        "colab": {
          "base_uri": "https://localhost:8080/",
          "height": 52
        }
      },
      "source": [
        "# 根据阈值 进行打分，不同阈值得到的分数不一样(上面的都是按照threshold=0.5算的)\n",
        "\n",
        "# threshold = 0.999945 # best\n",
        "threshold = 0.5\n",
        "y_prob = model.predict_proba(X=test_df[X_col])[:,1]\n",
        "y_pred = np.zeros_like(y_prob, dtype=int)\n",
        "y_pred[ y_prob > threshold] = 1\n",
        "\n",
        "print('acc: {}, err: {}, P: {}, R: {}, F1: {}\\n'.\n",
        "      format(\n",
        "          my_accuracy_score(y_true, y_pred),\n",
        "          1.0 - my_accuracy_score(y_true, y_pred), \n",
        "          my_precision_score(y_true, y_pred), \n",
        "          my_recall_score(y_true, y_pred),\n",
        "          my_f1_score(y_true, y_pred)\n",
        "      ))"
      ],
      "execution_count": 23,
      "outputs": [
        {
          "output_type": "stream",
          "text": [
            "acc: 0.9807708062685064, err: 0.019229193731493566, P: 0.05507246376811594, R: 0.8796296296296297, F1: 0.10365521003818876\n",
            "\n"
          ],
          "name": "stdout"
        }
      ]
    },
    {
      "cell_type": "markdown",
      "metadata": {
        "id": "Pvpwr0wYJl5F",
        "colab_type": "text"
      },
      "source": [
        "## ROC 曲线与 AUC面积"
      ]
    },
    {
      "cell_type": "code",
      "metadata": {
        "id": "FjuJpHE9ohbj",
        "colab_type": "code",
        "outputId": "b7c448ae-fbe0-4fa5-88cf-4f5a574d11f0",
        "colab": {
          "base_uri": "https://localhost:8080/",
          "height": 318
        }
      },
      "source": [
        "# 为roc曲线传入y_true 和 y_prob y_prob是预测为正的概率\n",
        "# 预测为正（类别1）的概率\n",
        "y_prob = model.predict_proba(X=test_df[X_col])[:,1]\n",
        "# prediction = model.decision_function(X=test_df[X_col])\n",
        "\n",
        "y_true = test_df['Class']\n",
        "\n",
        "# 绘制roc曲线\n",
        "from sklearn.metrics import roc_curve\n",
        "fpr, tpr, thresholds = roc_curve(y_true, y_prob)\n",
        "\n",
        "import matplotlib.pyplot as plt\n",
        "plt.plot(fpr, tpr)\n",
        "plt.legend()\n",
        "plt.xlabel('False Positive Rate')\n",
        "plt.ylabel('True Positive Rate')\n",
        "plt.show()\n",
        "\n",
        "from sklearn.metrics import roc_auc_score\n",
        "auc = roc_auc_score(y_true, y_prob)\n",
        "print(auc)"
      ],
      "execution_count": 24,
      "outputs": [
        {
          "output_type": "stream",
          "text": [
            "No handles with labels found to put in legend.\n"
          ],
          "name": "stderr"
        },
        {
          "output_type": "display_data",
          "data": {
            "image/png": "[encoded data removed]",
            "text/plain": [
              "<Figure size 432x288 with 1 Axes>"
            ]
          },
          "metadata": {
            "tags": []
          }
        },
        {
          "output_type": "stream",
          "text": [
            "0.9796297923868674\n"
          ],
          "name": "stdout"
        }
      ]
    },
    {
      "cell_type": "code",
      "metadata": {
        "id": "n78Fc9qJyO3o",
        "colab_type": "code",
        "outputId": "11f17aab-b4f8-49f5-8b0e-61d08f8dce37",
        "colab": {
          "base_uri": "https://localhost:8080/",
          "height": 852
        }
      },
      "source": [
        "# 加速auc计算\n",
        "\n",
        "\n",
        "from numba import jit\n",
        "\n",
        "@jit\n",
        "def fast_auc(y_true, y_prob):\n",
        "    y_true = np.asarray(y_true)\n",
        "    # argsort返回排序后的下标\n",
        "    y_true = y_true[np.argsort(y_prob)]\n",
        "    nfalse = 0\n",
        "    auc = 0\n",
        "    n = len(y_true)\n",
        "    for i in range(n):\n",
        "        y_i = y_true[i]\n",
        "        nfalse += (1 - y_i)\n",
        "        auc += y_i * nfalse\n",
        "    auc /= (nfalse * (n - nfalse))\n",
        "    return auc\n",
        "\n",
        "# @jit\n",
        "# def fast_fast_auc(y_true, y_prob):\n",
        "#     return roc_auc_score(y_true, y_pred)\n",
        "  \n",
        "  ## test speed\n",
        "y_true = np.random.randint(0,2,1000000)\n",
        "y_pred = np.random.rand(1000000)\n",
        "\n",
        "fast_auc(y_true, y_pred)\n",
        "\n",
        "from sklearn.metrics import roc_auc_score\n",
        "roc_auc_score(y_true, y_pred)\n",
        "\n",
        "%timeit print('auc1 is {}'.format(fast_auc(y_true, y_pred)))\n",
        "%timeit print('auc2 is {}'.format(roc_auc_score(y_true, y_pred)))\n"
      ],
      "execution_count": 28,
      "outputs": [
        {
          "output_type": "stream",
          "text": [
            "auc1 is 0.5003540584749403\n",
            "auc1 is 0.5003540584749403\n",
            "auc1 is 0.5003540584749403\n",
            "auc1 is 0.5003540584749403\n",
            "auc1 is 0.5003540584749403\n",
            "auc1 is 0.5003540584749403\n",
            "auc1 is 0.5003540584749403\n",
            "auc1 is 0.5003540584749403\n",
            "auc1 is 0.5003540584749403\n",
            "auc1 is 0.5003540584749403\n",
            "auc1 is 0.5003540584749403\n",
            "auc1 is 0.5003540584749403\n",
            "auc1 is 0.5003540584749403\n",
            "auc1 is 0.5003540584749403\n",
            "auc1 is 0.5003540584749403\n",
            "auc1 is 0.5003540584749403\n",
            "auc1 is 0.5003540584749403\n",
            "auc1 is 0.5003540584749403\n",
            "auc1 is 0.5003540584749403\n",
            "auc1 is 0.5003540584749403\n",
            "auc1 is 0.5003540584749403\n",
            "auc1 is 0.5003540584749403\n",
            "auc1 is 0.5003540584749403\n",
            "auc1 is 0.5003540584749403\n",
            "auc1 is 0.5003540584749403\n",
            "auc1 is 0.5003540584749403\n",
            "auc1 is 0.5003540584749403\n",
            "auc1 is 0.5003540584749403\n",
            "auc1 is 0.5003540584749403\n",
            "auc1 is 0.5003540584749403\n",
            "auc1 is 0.5003540584749403\n",
            "auc1 is 0.5003540584749403\n",
            "auc1 is 0.5003540584749403\n",
            "auc1 is 0.5003540584749403\n",
            "auc1 is 0.5003540584749403\n",
            "auc1 is 0.5003540584749403\n",
            "auc1 is 0.5003540584749403\n",
            "auc1 is 0.5003540584749403\n",
            "auc1 is 0.5003540584749403\n",
            "auc1 is 0.5003540584749403\n",
            "auc1 is 0.5003540584749403\n",
            "10 loops, best of 3: 127 ms per loop\n",
            "auc2 is 0.5003540584749403\n",
            "auc2 is 0.5003540584749403\n",
            "auc2 is 0.5003540584749403\n",
            "auc2 is 0.5003540584749403\n",
            "1 loop, best of 3: 366 ms per loop\n"
          ],
          "name": "stdout"
        }
      ]
    },
    {
      "cell_type": "markdown",
      "metadata": {
        "id": "5pNv_9B4Apvl",
        "colab_type": "text"
      },
      "source": [
        "# Homework 3"
      ]
    },
    {
      "cell_type": "markdown",
      "metadata": {
        "id": "dULTpZdxMPNh",
        "colab_type": "text"
      },
      "source": [
        "3. 按3：7划分数据集，用同一个模型，使用不同的权重，看不同评价指标的表现\n",
        "比如： class_weight 在 [0.05, 0.95] 里取10个均匀部分的点，查看测试集在验证\n",
        "集上的分数。分数可用 f1 , auc 等等，任选其一或多种，并画出随着\n",
        "class_weight 的改变， score 是如何改变的\n"
      ]
    },
    {
      "cell_type": "markdown",
      "metadata": {
        "id": "1WmOZT3XMite",
        "colab_type": "text"
      },
      "source": [
        "## 划分数据集"
      ]
    },
    {
      "cell_type": "code",
      "metadata": {
        "id": "S8kNVR4pMf0J",
        "colab_type": "code",
        "colab": {}
      },
      "source": [
        "total_num = data.shape[0]\n",
        "split_rate = 0.7\n",
        "train_num = int(split_rate * total_num)\n",
        "\n",
        "train_df = data.iloc[:train_num,:]\n",
        "test_df = data.loc[train_num:,:]\n",
        "\n",
        "\n",
        "X_col = ['Time', 'V1', 'V2', 'V3', 'V4', 'V5', 'V6', 'V7', 'V8', 'V9', 'V10',\n",
        "       'V11', 'V12', 'V13', 'V14', 'V15', 'V16', 'V17', 'V18', 'V19', 'V20',\n",
        "       'V21', 'V22', 'V23', 'V24', 'V25', 'V26', 'V27', 'V28', 'Amount']\n",
        "\n",
        "X_train = train_df[X_col]\n",
        "y_train = train_df['Class']\n",
        "X_test = test_df[X_col]\n",
        "y_test = test_df['Class']"
      ],
      "execution_count": 0,
      "outputs": []
    },
    {
      "cell_type": "markdown",
      "metadata": {
        "id": "0YZ7rbzRNBv5",
        "colab_type": "text"
      },
      "source": [
        "## 遍历class_weight并预测"
      ]
    },
    {
      "cell_type": "code",
      "metadata": {
        "id": "U2iB84qJq3PW",
        "colab_type": "code",
        "colab": {}
      },
      "source": [
        "y_true = y_test\n",
        "\n",
        "ret = []\n",
        "\n",
        "for w in np.linspace(start=0.01, stop=1,num=30):\n",
        "  \n",
        "  model = LogisticRegression(class_weight={\n",
        "      0: 1.0 - w,\n",
        "      1: w\n",
        "  })\n",
        "  \n",
        "  model.fit(X=X_train, y=y_train)\n",
        "  \n",
        "  y_prob = model.predict_proba(X=X_test)[:,1]\n",
        "  \n",
        "  ret.append((w, fast_auc(y_true=y_true, y_prob=y_prob)))\n",
        "  \n",
        "  \n"
      ],
      "execution_count": 0,
      "outputs": []
    },
    {
      "cell_type": "markdown",
      "metadata": {
        "id": "EGNLveheNnve",
        "colab_type": "text"
      },
      "source": [
        "## plot结果"
      ]
    },
    {
      "cell_type": "code",
      "metadata": {
        "id": "ymHWOcwW-fQe",
        "colab_type": "code",
        "outputId": "1bc61759-8a93-498d-9303-4db43ff4c4d1",
        "colab": {
          "base_uri": "https://localhost:8080/",
          "height": 301
        }
      },
      "source": [
        "w_list, auc_list = list(zip(*ret))\n",
        "\n",
        "plt.plot(w_list, auc_list)\n",
        "\n",
        "plt.xlabel('weight of category_1')\n",
        "\n",
        "plt.ylabel('auc')"
      ],
      "execution_count": 0,
      "outputs": [
        {
          "output_type": "execute_result",
          "data": {
            "text/plain": [
              "Text(0, 0.5, 'auc')"
            ]
          },
          "metadata": {
            "tags": []
          },
          "execution_count": 28
        },
        {
          "output_type": "display_data",
          "data": {
            "image/png": "[encoded data removed]",
            "text/plain": [
              "<Figure size 432x288 with 1 Axes>"
            ]
          },
          "metadata": {
            "tags": []
          }
        }
      ]
    }
  ]
}